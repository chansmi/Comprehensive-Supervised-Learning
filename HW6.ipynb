{
 "cells": [
  {
   "attachments": {},
   "cell_type": "markdown",
   "metadata": {},
   "source": [
    "# HW6 Comprehensive Supervised Learning\n",
    "Contributors: Zongyu Wu, Tony Wilson, Chandler Smith\n",
    "\n",
    "Summary: The overall purpose of this assignment is to tie together a variety of supervised learning techniques in order to appropriately analyze several questions related to the Behavioral Risk Factor Surveillance System. More specifically, the goal is to use supervised ML to identify patterns of comorbidity among the survey respondents. This is a comparative exercise focusing on pre (2019) and post (2021) covid health. "
   ]
  },
  {
   "attachments": {},
   "cell_type": "markdown",
   "metadata": {},
   "source": [
    "Notes from discussion:\n",
    "\n",
    "Approach: One approach for understanding behavioral factors behind comorbidity is to apply classification algorithms to the BRFSS data. Such algorithms can be trained to predict whether an individual has multiple chronic conditions based on their responses to the survey questions. By analyzing the features that are most important for predicting comorbidity, one can identify risk factors and inform the development of targeted prevention and intervention strategies.\n",
    "\n",
    "Response related:\n",
    "Depression = ADDEPEV3\n",
    " Ever told Asthma = _CASTHM1\n",
    " COPD = (CHCCOPD2 for 2019 and CHCCOPD3 for 2021)\n",
    " Cancer = (combine CHCSCNCR and CHCOCNCR)\n",
    " Ever told Heart Condition = combination of CVDCRHD4, CVDINFR4 and CVDSTRK3\n",
    " Diabetes = DIABETE4\n",
    " \n",
    "\n",
    "Key demographic features:\n",
    "Age: _AGE_G\n",
    " Marital: MARITAL\n",
    " Sex: _SEX\n",
    " Income: INCOME2\n",
    " Education: _EDUCAG\n",
    "\n",
    "- Do NOT refer to correlation\n",
    "- BRFSS data can be used to understand comorbidity, which refers to the presence of multiple chronic conditions in an individual. \n",
    "- RFSS uses a complex sampling and weighting scheme to measure prevalence of many health conditions, behavioral and lifestyle related risk factors and emerging health issues in states. \n",
    "- Do not use the weight variable as we are conducting estimations. \n",
    "\n",
    "\n",
    "- 2019 Codebook: https://www.cdc.gov/brfss/annual_data/2019/pdf/codebook19_llcp-v2-508.HTML\n",
    "- 2021 Codebook: https://www.cdc.gov/brfss/annual_data/2021/pdf/codebook21_llcp-v2-508.pdf"
   ]
  },
  {
   "attachments": {},
   "cell_type": "markdown",
   "metadata": {},
   "source": [
    "## Clean, Standardize, and Merge data\n"
   ]
  },
  {
   "cell_type": "code",
   "execution_count": null,
   "metadata": {
    "vscode": {
     "languageId": "plaintext"
    }
   },
   "outputs": [],
   "source": []
  },
  {
   "attachments": {},
   "cell_type": "markdown",
   "metadata": {},
   "source": [
    "## Create categorical columns\n",
    "\n",
    "- Column 1: Binary - indicates whether an individual has haf any of the chronic conditions. \n",
    "- Column 2: Multiclass - create a milticlass column with values that inidicate the total number of chronic conditions."
   ]
  },
  {
   "attachments": {},
   "cell_type": "markdown",
   "metadata": {},
   "source": [
    "## Analysis 1\n",
    "Using both years, run exploratory data analysis using crosstabs, visuals, and basic frequency distributions to understand how chronic conditions are distribituted across geography and demography. You may also use the newly created comorbidity variables for this analysis. \n",
    "\n",
    "- Summarize salient features of the healthiest and least healthy states in the country.\n",
    "- Discuss if you noticed any associations of the risk factors such as Age, Sex, Income, Education, Marital Status etc. with the level of comorbidities, while comparing the two years of data."
   ]
  },
  {
   "attachments": {},
   "cell_type": "markdown",
   "metadata": {},
   "source": [
    "## Analysis 2\n",
    "1. Using only 2021, use several classification algorithms to classify comorbility variables 1 and 2:\n",
    "- Logistic Regression\n",
    "- KNN\n",
    "- RF\n",
    "- Gradient Boosting\n",
    "- XGBoost\n",
    "- Catboost\n",
    "\n",
    "2. Write a short report describing the performance metrics. \n",
    "3. In the end, choose one model each for the classification of both categorical variables"
   ]
  },
  {
   "attachments": {},
   "cell_type": "markdown",
   "metadata": {},
   "source": [
    "### Logistic Regresison"
   ]
  },
  {
   "attachments": {},
   "cell_type": "markdown",
   "metadata": {},
   "source": [
    "### KNN"
   ]
  },
  {
   "attachments": {},
   "cell_type": "markdown",
   "metadata": {},
   "source": [
    "### Random Forest"
   ]
  },
  {
   "attachments": {},
   "cell_type": "markdown",
   "metadata": {},
   "source": [
    "### Gradient Boost"
   ]
  },
  {
   "attachments": {},
   "cell_type": "markdown",
   "metadata": {},
   "source": [
    "### XGBoost"
   ]
  },
  {
   "attachments": {},
   "cell_type": "markdown",
   "metadata": {},
   "source": [
    "### Catboost"
   ]
  },
  {
   "cell_type": "markdown",
   "metadata": {},
   "source": []
  }
 ],
 "metadata": {
  "language_info": {
   "name": "python"
  },
  "orig_nbformat": 4
 },
 "nbformat": 4,
 "nbformat_minor": 2
}
